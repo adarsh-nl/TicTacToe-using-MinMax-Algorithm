{
 "cells": [
  {
   "cell_type": "code",
   "execution_count": 155,
   "metadata": {},
   "outputs": [],
   "source": [
    "Player = \"O\"\n",
    "Agent = \"X\"\n",
    "\n",
    "DEFAULT_ALG=\"minmax\""
   ]
  },
  {
   "cell_type": "code",
   "execution_count": 156,
   "metadata": {},
   "outputs": [],
   "source": [
    "playarea = {1: ' ', 2: ' ', 3: ' ',\n",
    "            4: ' ', 5: ' ', 6: ' ',\n",
    "            7: ' ', 8: ' ', 9: ' '}"
   ]
  },
  {
   "cell_type": "code",
   "execution_count": 157,
   "metadata": {},
   "outputs": [],
   "source": [
    "def printplayarea(playarea):\n",
    "    print(playarea[1] + ' | ' + playarea[2] + ' | ' + playarea[3])\n",
    "    print(\"--+---+--\")\n",
    "    print(playarea[4] + ' | ' + playarea[5] + ' | ' + playarea[6])\n",
    "    print(\"--+---+--\")\n",
    "    print(playarea[7] + ' | ' + playarea[8] + ' | ' + playarea[9])\n",
    "#printplayarea()"
   ]
  },
  {
   "cell_type": "code",
   "execution_count": 158,
   "metadata": {},
   "outputs": [],
   "source": [
    "def boxisfree(position):\n",
    "    if (playarea[position] == ' '):\n",
    "        return True\n",
    "    else:\n",
    "        return False"
   ]
  },
  {
   "cell_type": "code",
   "execution_count": 159,
   "metadata": {},
   "outputs": [],
   "source": [
    "def checkDraw():\n",
    "    for keys in playarea.keys():\n",
    "        if (playarea[keys] == ' '):\n",
    "            return False\n",
    "    \n",
    "    return True\n",
    "\n",
    "def checkWin():\n",
    "    if(playarea[1] == playarea[2] and playarea[1] == playarea[3] and playarea[1] != ' '):\n",
    "        return True\n",
    "    elif(playarea[4] == playarea[5] and playarea[4] == playarea[6] and playarea[4] != ' '):\n",
    "        return True\n",
    "    elif(playarea[7] == playarea[8] and playarea[7] == playarea[9] and playarea[7] != ' '):\n",
    "        return True\n",
    "    elif(playarea[1] == playarea[4] and playarea[1] == playarea[7] and playarea[1] != ' '):\n",
    "        return True\n",
    "    elif(playarea[2] == playarea[5] and playarea[2] == playarea[8] and playarea[2] != ' '):\n",
    "        return True\n",
    "    elif(playarea[3] == playarea[6] and playarea[3] == playarea[9] and playarea[3] != ' '):\n",
    "        return True\n",
    "    elif(playarea[1] == playarea[5] and playarea[1] == playarea[9] and playarea[1] != ' '):\n",
    "        return True\n",
    "    elif(playarea[7] == playarea[5] and playarea[7] == playarea[3] and playarea[7] != ' '):\n",
    "        return True\n",
    "    else:\n",
    "        return False\n",
    "\n",
    "def checkScore(mark):\n",
    "    if playarea[1] == playarea[2] and playarea[1] == playarea[3] and playarea[1] == mark:\n",
    "        return True\n",
    "    elif (playarea[4] == playarea[5] and playarea[4] == playarea[6] and playarea[4] == mark):\n",
    "        return True\n",
    "    elif (playarea[7] == playarea[8] and playarea[7] == playarea[9] and playarea[7] == mark):\n",
    "        return True\n",
    "    elif (playarea[1] == playarea[4] and playarea[1] == playarea[7] and playarea[1] == mark):\n",
    "        return True\n",
    "    elif (playarea[2] == playarea[5] and playarea[2] == playarea[8] and playarea[2] == mark):\n",
    "        return True\n",
    "    elif (playarea[3] == playarea[6] and playarea[3] == playarea[9] and playarea[3] == mark):\n",
    "        return True\n",
    "    elif (playarea[1] == playarea[5] and playarea[1] == playarea[9] and playarea[1] == mark):\n",
    "        return True\n",
    "    elif (playarea[7] == playarea[5] and playarea[7] == playarea[3] and playarea[7] == mark):\n",
    "        return True\n",
    "    else:\n",
    "        return False\n",
    "\n"
   ]
  },
  {
   "cell_type": "code",
   "execution_count": 160,
   "metadata": {},
   "outputs": [],
   "source": [
    "import sys\n",
    "def insertLetter(letter, position):\n",
    "    if boxisfree(position):\n",
    "        playarea[position] = letter\n",
    "        #printplayarea(playarea)\n",
    "        if (checkDraw()):\n",
    "            print(\"Draw!\")\n",
    "            sys.exit()\n",
    "        if checkWin():\n",
    "            if (letter == \"X\"):\n",
    "                print(\"Agent wins!\")\n",
    "                sys.exit()\n",
    "            else:\n",
    "                print(\"Player wins!\")\n",
    "                sys.exit()\n",
    "\n",
    "        return\n",
    "\n",
    "    else:\n",
    "        print(\"Can't insert there!\")\n",
    "        position = int(input(\"Please enter new position:  \"))\n",
    "        insertLetter(letter, position)\n",
    "        return"
   ]
  },
  {
   "cell_type": "code",
   "execution_count": 161,
   "metadata": {},
   "outputs": [],
   "source": [
    "def PlayerTurn():\n",
    "    position = int(input(\"Enter a position to insert 'O'\"))\n",
    "    insertLetter(Player,position)\n",
    "\n",
    "def AgentTurn(alg):\n",
    "    bestscore = -1000\n",
    "    bestmove = 0\n",
    "\n",
    "    for key in playarea.keys():\n",
    "        if(playarea[key]==' '):\n",
    "            playarea[key]=Agent\n",
    "            match alg:\n",
    "                case \"minmax\":\n",
    "                    score = minmax(playarea,False)\n",
    "                case \"alphabetaPruning\":\n",
    "                    score =minmax_AlphaBetaPruning(playarea,False,float(\"-inf\") ,float(\"inf\"))\n",
    "            playarea[key]=' '\n",
    "            if(score>bestscore):\n",
    "                bestscore = score\n",
    "                bestmove = key\n",
    "\n",
    "    insertLetter(Agent,bestmove)\n",
    "    return\n"
   ]
  },
  {
   "cell_type": "code",
   "execution_count": 162,
   "metadata": {},
   "outputs": [],
   "source": [
    "\n",
    "def minmax(playarea, isMaximizing):\n",
    "    if (checkScore(Agent)):\n",
    "        return 1\n",
    "    elif (checkScore(Player)):\n",
    "        return -1\n",
    "    elif (checkDraw()):\n",
    "        return 0\n",
    "\n",
    "    if (isMaximizing):\n",
    "        bestScore = -800\n",
    "        for key in playarea.keys():\n",
    "            if (playarea[key] == ' '):\n",
    "                playarea[key] = Agent\n",
    "                score = minmax(playarea, False)\n",
    "                playarea[key] = ' '\n",
    "                if (score > bestScore):\n",
    "                    bestScore = score\n",
    "        return bestScore\n",
    "\n",
    "    else:\n",
    "        bestScore = 800\n",
    "        for key in playarea.keys():\n",
    "            if (playarea[key] == ' '):\n",
    "                playarea[key] = Player\n",
    "                score = minmax(playarea, True)\n",
    "                playarea[key] = ' '\n",
    "                if (score < bestScore):\n",
    "                    bestScore = score\n",
    "        return bestScore    "
   ]
  },
  {
   "cell_type": "code",
   "execution_count": 163,
   "metadata": {},
   "outputs": [],
   "source": [
    "\n",
    "def minmax_AlphaBetaPruning(playarea, isMaximizing, alpha, beta):\n",
    "    if (checkScore(Agent)):\n",
    "        return 1\n",
    "    elif (checkScore(Player)):\n",
    "        return -1\n",
    "    elif (checkDraw()):\n",
    "        return 0    \n",
    "\n",
    "    \n",
    "    if (isMaximizing):\n",
    "        bestScore = -800\n",
    "        for key in playarea.keys():\n",
    "            if (playarea[key] == ' '):\n",
    "                playarea[key] = Agent\n",
    "                score = minmax_AlphaBetaPruning(playarea, False,float(\"-inf\") ,float(\"inf\"))\n",
    "                playarea[key] = ' '\n",
    "                if (score > bestScore):\n",
    "                    bestScore = score\n",
    "                beta=max(beta,bestScore)\n",
    "                if (beta <= alpha):\n",
    "                    break\n",
    "        return bestScore\n",
    "\n",
    "    else:\n",
    "        bestScore = 800\n",
    "        for key in playarea.keys():\n",
    "            if (playarea[key] == ' '):\n",
    "                playarea[key] = Player\n",
    "                score = minmax_AlphaBetaPruning(playarea, True,float(\"-inf\") ,float(\"inf\"))\n",
    "                playarea[key] = ' '\n",
    "                if (score < bestScore):\n",
    "                    bestScore = score\n",
    "                beta=min(beta,bestScore)\n",
    "                if (beta <= alpha):\n",
    "                    break\n",
    "        return bestScore"
   ]
  },
  {
   "cell_type": "code",
   "execution_count": 164,
   "metadata": {},
   "outputs": [
    {
     "name": "stdout",
     "output_type": "stream",
     "text": [
      "The initial game board\n",
      "  |   |  \n",
      "--+---+--\n",
      "  |   |  \n",
      "--+---+--\n",
      "  |   |  \n",
      "Game Begins\n",
      "X |   |  \n",
      "--+---+--\n",
      "  |   |  \n",
      "--+---+--\n",
      "  |   |  \n",
      "Can't insert there!\n",
      "X | X |  \n",
      "--+---+--\n",
      "  | O |  \n",
      "--+---+--\n",
      "  |   |  \n",
      "X | X | O\n",
      "--+---+--\n",
      "  | O |  \n",
      "--+---+--\n",
      "X |   |  \n",
      "X | X | O\n",
      "--+---+--\n",
      "O | O | X\n",
      "--+---+--\n",
      "X |   |  \n",
      "Draw!\n"
     ]
    },
    {
     "ename": "SystemExit",
     "evalue": "",
     "output_type": "error",
     "traceback": [
      "An exception has occurred, use %tb to see the full traceback.\n",
      "\u001b[0;31mSystemExit\u001b[0m\n"
     ]
    },
    {
     "name": "stderr",
     "output_type": "stream",
     "text": [
      "/home/adarsh/.local/lib/python3.10/site-packages/IPython/core/interactiveshell.py:3406: UserWarning: To exit: use 'exit', 'quit', or Ctrl-D.\n",
      "  warn(\"To exit: use 'exit', 'quit', or Ctrl-D.\", stacklevel=1)\n"
     ]
    }
   ],
   "source": [
    "def main():\n",
    "    print(\"The initial game board\")\n",
    "    printplayarea(playarea)\n",
    "    print(\"Game Begins\")\n",
    "    while not checkWin():\n",
    "        AgentTurn(\"alphabetaPruning\")\n",
    "        printplayarea(playarea)\n",
    "        PlayerTurn()\n",
    "\n",
    "main()"
   ]
  },
  {
   "cell_type": "code",
   "execution_count": null,
   "metadata": {},
   "outputs": [],
   "source": []
  },
  {
   "cell_type": "code",
   "execution_count": null,
   "metadata": {},
   "outputs": [],
   "source": []
  }
 ],
 "metadata": {
  "kernelspec": {
   "display_name": "Python 3.10.6 ('aikr')",
   "language": "python",
   "name": "python3"
  },
  "language_info": {
   "codemirror_mode": {
    "name": "ipython",
    "version": 3
   },
   "file_extension": ".py",
   "mimetype": "text/x-python",
   "name": "python",
   "nbconvert_exporter": "python",
   "pygments_lexer": "ipython3",
   "version": "3.10.6"
  },
  "orig_nbformat": 4,
  "vscode": {
   "interpreter": {
    "hash": "b5cbcb2e7a436146f2ebede0c6fc49912a11acd898b062d94ddd451e1d545775"
   }
  }
 },
 "nbformat": 4,
 "nbformat_minor": 2
}
