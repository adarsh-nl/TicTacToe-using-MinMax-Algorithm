{
 "cells": [
  {
   "cell_type": "code",
   "execution_count": 7,
   "metadata": {},
   "outputs": [],
   "source": [
    "Player = \"O\"\n",
    "Agent = \"X\"\n",
    "\n",
    "playarea = {1: ' ', 2: ' ', 3: ' ',\n",
    "            4: ' ', 5: ' ', 6: ' ',\n",
    "            7: ' ', 8: ' ', 9: ' '}"
   ]
  },
  {
   "cell_type": "code",
   "execution_count": 8,
   "metadata": {},
   "outputs": [],
   "source": [
    "def printplayarea(playarea):\n",
    "    print(playarea[1] + ' | ' + playarea[2] + ' | ' + playarea[3])\n",
    "    print(\"--+---+--\")\n",
    "    print(playarea[4] + ' | ' + playarea[5] + ' | ' + playarea[6])\n",
    "    print(\"--+---+--\")\n",
    "    print(playarea[7] + ' | ' + playarea[8] + ' | ' + playarea[9])\n",
    "    print(\"\\n\")\n",
    "#printplayarea()"
   ]
  },
  {
   "cell_type": "code",
   "execution_count": 9,
   "metadata": {},
   "outputs": [],
   "source": [
    "def boxisfree(position):\n",
    "    if (playarea[position] == ' '):\n",
    "        return True\n",
    "    else:\n",
    "        return False"
   ]
  },
  {
   "cell_type": "code",
   "execution_count": 10,
   "metadata": {},
   "outputs": [],
   "source": [
    "def checkDraw():\n",
    "    for keys in playarea.keys():\n",
    "        if (playarea[keys] == ' '):\n",
    "            return False\n",
    "    \n",
    "    return True\n",
    "\n",
    "def checkWin():\n",
    "    if(playarea[1] == playarea[2] and playarea[1] == playarea[3] and playarea[1] != ' '):\n",
    "        return True\n",
    "    elif(playarea[4] == playarea[5] and playarea[4] == playarea[6] and playarea[4] != ' '):\n",
    "        return True\n",
    "    elif(playarea[7] == playarea[8] and playarea[7] == playarea[9] and playarea[7] != ' '):\n",
    "        return True\n",
    "    elif(playarea[1] == playarea[4] and playarea[1] == playarea[7] and playarea[1] != ' '):\n",
    "        return True\n",
    "    elif(playarea[2] == playarea[5] and playarea[2] == playarea[8] and playarea[2] != ' '):\n",
    "        return True\n",
    "    elif(playarea[3] == playarea[6] and playarea[3] == playarea[9] and playarea[3] != ' '):\n",
    "        return True\n",
    "    elif(playarea[1] == playarea[5] and playarea[1] == playarea[9] and playarea[1] != ' '):\n",
    "        return True\n",
    "    elif(playarea[7] == playarea[5] and playarea[7] == playarea[3] and playarea[7] != ' '):\n",
    "        return True\n",
    "    else:\n",
    "        return False\n"
   ]
  },
  {
   "cell_type": "code",
   "execution_count": 11,
   "metadata": {},
   "outputs": [],
   "source": [
    "import sys\n",
    "def insertLetter(letter, position):\n",
    "    if boxisfree(position):\n",
    "        playarea[position] = letter\n",
    "        printplayarea(playarea)\n",
    "        if (checkDraw()):\n",
    "            print(\"Draw!\")\n",
    "            sys.exit()\n",
    "        if checkWin():\n",
    "            if (letter == \"X\"):\n",
    "                print(\"Agent wins!\")\n",
    "                sys.exit()\n",
    "            else:\n",
    "                print(\"Player wins!\")\n",
    "                sys.exit()\n",
    "\n",
    "        return\n",
    "\n",
    "    else:\n",
    "        print(\"Can't insert there!\")\n",
    "        position = int(input(\"Please enter new position:  \"))\n",
    "        insertLetter(letter, position)\n",
    "        return"
   ]
  },
  {
   "cell_type": "code",
   "execution_count": 12,
   "metadata": {},
   "outputs": [
    {
     "name": "stdout",
     "output_type": "stream",
     "text": [
      "X |   |  \n",
      "--+---+--\n",
      "  |   |  \n",
      "--+---+--\n",
      "  |   |  \n",
      "\n",
      "\n",
      "X |   |  \n",
      "--+---+--\n",
      "O |   |  \n",
      "--+---+--\n",
      "  |   |  \n",
      "\n",
      "\n",
      "X | X |  \n",
      "--+---+--\n",
      "O |   |  \n",
      "--+---+--\n",
      "  |   |  \n",
      "\n",
      "\n",
      "X | X |  \n",
      "--+---+--\n",
      "O | O |  \n",
      "--+---+--\n",
      "  |   |  \n",
      "\n",
      "\n",
      "X | X | X\n",
      "--+---+--\n",
      "O | O |  \n",
      "--+---+--\n",
      "  |   |  \n",
      "\n",
      "\n",
      "Agent wins!\n"
     ]
    },
    {
     "ename": "SystemExit",
     "evalue": "",
     "output_type": "error",
     "traceback": [
      "An exception has occurred, use %tb to see the full traceback.\n",
      "\u001b[0;31mSystemExit\u001b[0m\n"
     ]
    }
   ],
   "source": [
    "def playerTurn():\n",
    "    position = int(input(\"Enter a position to insert 'O'\"))\n",
    "    insertLetter(Player,position)\n",
    "\n",
    "def AgentTurn():\n",
    "    position = int(input(\"Enter a position to insert 'X'\"))\n",
    "    insertLetter(Agent,position)\n",
    "\n",
    "while not checkWin():\n",
    "    AgentTurn()\n",
    "    playerTurn()\n",
    "    "
   ]
  },
  {
   "cell_type": "code",
   "execution_count": null,
   "metadata": {},
   "outputs": [],
   "source": []
  },
  {
   "cell_type": "code",
   "execution_count": null,
   "metadata": {},
   "outputs": [],
   "source": []
  }
 ],
 "metadata": {
  "kernelspec": {
   "display_name": "Python 3.10.4 64-bit",
   "language": "python",
   "name": "python3"
  },
  "language_info": {
   "codemirror_mode": {
    "name": "ipython",
    "version": 3
   },
   "file_extension": ".py",
   "mimetype": "text/x-python",
   "name": "python",
   "nbconvert_exporter": "python",
   "pygments_lexer": "ipython3",
   "version": "3.10.4"
  },
  "orig_nbformat": 4,
  "vscode": {
   "interpreter": {
    "hash": "916dbcbb3f70747c44a77c7bcd40155683ae19c65e1c03b4aa3499c5328201f1"
   }
  }
 },
 "nbformat": 4,
 "nbformat_minor": 2
}
